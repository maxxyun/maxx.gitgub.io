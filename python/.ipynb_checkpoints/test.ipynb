{
 "metadata": {
  "language_info": {
   "codemirror_mode": {
    "name": "ipython",
    "version": 3
   },
   "file_extension": ".py",
   "mimetype": "text/x-python",
   "name": "python",
   "nbconvert_exporter": "python",
   "pygments_lexer": "ipython3",
   "version": "3.8.8"
  },
  "orig_nbformat": 2,
  "kernelspec": {
   "name": "python388jvsc74a57bd08de9374bbfb70cbbddf0ab74dd38f49b27db246743e029a413f7164cfedee438",
   "display_name": "Python 3.8.8 64-bit ('base': conda)"
  }
 },
 "nbformat": 4,
 "nbformat_minor": 2,
 "cells": [
  {
   "cell_type": "code",
   "execution_count": 1,
   "metadata": {},
   "outputs": [
    {
     "output_type": "error",
     "ename": "SyntaxError",
     "evalue": "invalid syntax (<ipython-input-1-577baa82a76a>, line 1)",
     "traceback": [
      "\u001b[1;36m  File \u001b[1;32m\"<ipython-input-1-577baa82a76a>\"\u001b[1;36m, line \u001b[1;32m1\u001b[0m\n\u001b[1;33m    form konlpy.tag import hannanum\u001b[0m\n\u001b[1;37m         ^\u001b[0m\n\u001b[1;31mSyntaxError\u001b[0m\u001b[1;31m:\u001b[0m invalid syntax\n"
     ]
    }
   ],
   "source": [
    "form konlpy.tag import hannanum\n",
    "hannanum=hannanum()"
   ]
  },
  {
   "cell_type": "code",
   "execution_count": 2,
   "metadata": {},
   "outputs": [
    {
     "output_type": "error",
     "ename": "NameError",
     "evalue": "name 'hannanum' is not defined",
     "traceback": [
      "\u001b[1;31m---------------------------------------------------------------------------\u001b[0m",
      "\u001b[1;31mNameError\u001b[0m                                 Traceback (most recent call last)",
      "\u001b[1;32m<ipython-input-2-ebaaf82862ff>\u001b[0m in \u001b[0;36m<module>\u001b[1;34m\u001b[0m\n\u001b[1;32m----> 1\u001b[1;33m \u001b[0mx\u001b[0m\u001b[1;33m=\u001b[0m\u001b[0mhannanum\u001b[0m\u001b[1;33m.\u001b[0m\u001b[0mmorphs\u001b[0m\u001b[1;33m(\u001b[0m\u001b[1;34m\"인사이저는 보다 정확하고 의미있는 비지니스 인사이트를 제공합니다\"\u001b[0m\u001b[1;33m)\u001b[0m\u001b[1;33m\u001b[0m\u001b[1;33m\u001b[0m\u001b[0m\n\u001b[0m\u001b[0;32m      2\u001b[0m \u001b[0mprint\u001b[0m\u001b[1;33m(\u001b[0m\u001b[0mx\u001b[0m\u001b[1;33m)\u001b[0m\u001b[1;33m\u001b[0m\u001b[1;33m\u001b[0m\u001b[0m\n",
      "\u001b[1;31mNameError\u001b[0m: name 'hannanum' is not defined"
     ]
    }
   ],
   "source": [
    "x=hannanum.morphs(\"인사이저는 보다 정확하고 의미있는 비지니스 인사이트를 제공합니다\")\n",
    "print(x)"
   ]
  },
  {
   "cell_type": "code",
   "execution_count": 5,
   "metadata": {},
   "outputs": [
    {
     "output_type": "error",
     "ename": "NameError",
     "evalue": "name 'komoran' is not defined",
     "traceback": [
      "\u001b[1;31m---------------------------------------------------------------------------\u001b[0m",
      "\u001b[1;31mNameError\u001b[0m                                 Traceback (most recent call last)",
      "\u001b[1;32m<ipython-input-5-568c4ab07442>\u001b[0m in \u001b[0;36m<module>\u001b[1;34m\u001b[0m\n\u001b[0;32m      1\u001b[0m \u001b[1;32mfrom\u001b[0m \u001b[0mkonlpy\u001b[0m\u001b[1;33m.\u001b[0m\u001b[0mtag\u001b[0m \u001b[1;32mimport\u001b[0m \u001b[0mKomoran\u001b[0m\u001b[1;33m\u001b[0m\u001b[1;33m\u001b[0m\u001b[0m\n\u001b[1;32m----> 2\u001b[1;33m \u001b[0mkomoran\u001b[0m\u001b[1;33m=\u001b[0m\u001b[0mkomoran\u001b[0m\u001b[1;33m(\u001b[0m\u001b[1;33m)\u001b[0m\u001b[1;33m\u001b[0m\u001b[1;33m\u001b[0m\u001b[0m\n\u001b[0m\u001b[0;32m      3\u001b[0m \u001b[0mprint\u001b[0m\u001b[1;33m(\u001b[0m\u001b[0mkomoran\u001b[0m\u001b[1;33m.\u001b[0m\u001b[0mnouns\u001b[0m\u001b[1;33m(\u001b[0m\u001b[1;34m\"게시글이 좋았다면 공감을 눌러주세요!!!\"\u001b[0m\u001b[1;33m)\u001b[0m\u001b[1;33m)\u001b[0m\u001b[1;33m\u001b[0m\u001b[1;33m\u001b[0m\u001b[0m\n",
      "\u001b[1;31mNameError\u001b[0m: name 'komoran' is not defined"
     ]
    }
   ],
   "source": [
    "from konlpy.tag import Komoran\n",
    "komoran=komoran()\n",
    "print(komoran.nouns(\"게시글이 좋았다면 공감을 눌러주세요!!!\"))"
   ]
  },
  {
   "cell_type": "code",
   "execution_count": 7,
   "metadata": {},
   "outputs": [
    {
     "output_type": "stream",
     "name": "stdout",
     "text": [
      "Requirement already satisfied: konlpy in c:\\users\\maxx\\anaconda3\\lib\\site-packages (0.5.2)\nRequirement already satisfied: numpy>=1.6 in c:\\users\\maxx\\anaconda3\\lib\\site-packages (from konlpy) (1.20.1)\nRequirement already satisfied: colorama in c:\\users\\maxx\\anaconda3\\lib\\site-packages (from konlpy) (0.4.4)\nRequirement already satisfied: beautifulsoup4==4.6.0 in c:\\users\\maxx\\anaconda3\\lib\\site-packages (from konlpy) (4.6.0)\nRequirement already satisfied: lxml>=4.1.0 in c:\\users\\maxx\\anaconda3\\lib\\site-packages (from konlpy) (4.6.3)\nRequirement already satisfied: JPype1>=0.7.0 in c:\\users\\maxx\\anaconda3\\lib\\site-packages (from konlpy) (1.1.2)\nRequirement already satisfied: tweepy>=3.7.0 in c:\\users\\maxx\\anaconda3\\lib\\site-packages (from konlpy) (3.10.0)\nRequirement already satisfied: requests-oauthlib>=0.7.0 in c:\\users\\maxx\\anaconda3\\lib\\site-packages (from tweepy>=3.7.0->konlpy) (1.3.0)\nRequirement already satisfied: requests[socks]>=2.11.1 in c:\\users\\maxx\\anaconda3\\lib\\site-packages (from tweepy>=3.7.0->konlpy) (2.25.1)\nRequirement already satisfied: six>=1.10.0 in c:\\users\\maxx\\anaconda3\\lib\\site-packages (from tweepy>=3.7.0->konlpy) (1.15.0)\nRequirement already satisfied: oauthlib>=3.0.0 in c:\\users\\maxx\\anaconda3\\lib\\site-packages (from requests-oauthlib>=0.7.0->tweepy>=3.7.0->konlpy) (3.1.0)\nRequirement already satisfied: urllib3<1.27,>=1.21.1 in c:\\users\\maxx\\anaconda3\\lib\\site-packages (from requests[socks]>=2.11.1->tweepy>=3.7.0->konlpy) (1.26.4)\nRequirement already satisfied: idna<3,>=2.5 in c:\\users\\maxx\\anaconda3\\lib\\site-packages (from requests[socks]>=2.11.1->tweepy>=3.7.0->konlpy) (2.10)\nRequirement already satisfied: certifi>=2017.4.17 in c:\\users\\maxx\\anaconda3\\lib\\site-packages (from requests[socks]>=2.11.1->tweepy>=3.7.0->konlpy) (2020.12.5)\nRequirement already satisfied: chardet<5,>=3.0.2 in c:\\users\\maxx\\anaconda3\\lib\\site-packages (from requests[socks]>=2.11.1->tweepy>=3.7.0->konlpy) (4.0.0)\nRequirement already satisfied: PySocks!=1.5.7,>=1.5.6 in c:\\users\\maxx\\anaconda3\\lib\\site-packages (from requests[socks]>=2.11.1->tweepy>=3.7.0->konlpy) (1.7.1)\n"
     ]
    }
   ],
   "source": [
    "!pip install konlpy\n"
   ]
  },
  {
   "cell_type": "code",
   "execution_count": 8,
   "metadata": {},
   "outputs": [
    {
     "output_type": "error",
     "ename": "NameError",
     "evalue": "name 'komoran' is not defined",
     "traceback": [
      "\u001b[1;31m---------------------------------------------------------------------------\u001b[0m",
      "\u001b[1;31mNameError\u001b[0m                                 Traceback (most recent call last)",
      "\u001b[1;32m<ipython-input-8-568c4ab07442>\u001b[0m in \u001b[0;36m<module>\u001b[1;34m\u001b[0m\n\u001b[0;32m      1\u001b[0m \u001b[1;32mfrom\u001b[0m \u001b[0mkonlpy\u001b[0m\u001b[1;33m.\u001b[0m\u001b[0mtag\u001b[0m \u001b[1;32mimport\u001b[0m \u001b[0mKomoran\u001b[0m\u001b[1;33m\u001b[0m\u001b[1;33m\u001b[0m\u001b[0m\n\u001b[1;32m----> 2\u001b[1;33m \u001b[0mkomoran\u001b[0m\u001b[1;33m=\u001b[0m\u001b[0mkomoran\u001b[0m\u001b[1;33m(\u001b[0m\u001b[1;33m)\u001b[0m\u001b[1;33m\u001b[0m\u001b[1;33m\u001b[0m\u001b[0m\n\u001b[0m\u001b[0;32m      3\u001b[0m \u001b[0mprint\u001b[0m\u001b[1;33m(\u001b[0m\u001b[0mkomoran\u001b[0m\u001b[1;33m.\u001b[0m\u001b[0mnouns\u001b[0m\u001b[1;33m(\u001b[0m\u001b[1;34m\"게시글이 좋았다면 공감을 눌러주세요!!!\"\u001b[0m\u001b[1;33m)\u001b[0m\u001b[1;33m)\u001b[0m\u001b[1;33m\u001b[0m\u001b[1;33m\u001b[0m\u001b[0m\n",
      "\u001b[1;31mNameError\u001b[0m: name 'komoran' is not defined"
     ]
    }
   ],
   "source": [
    "from konlpy.tag import Komoran\n",
    "komoran=komoran()\n",
    "print(komoran.nouns(\"게시글이 좋았다면 공감을 눌러주세요!!!\"))"
   ]
  },
  {
   "cell_type": "code",
   "execution_count": null,
   "metadata": {},
   "outputs": [],
   "source": []
  }
 ]
}